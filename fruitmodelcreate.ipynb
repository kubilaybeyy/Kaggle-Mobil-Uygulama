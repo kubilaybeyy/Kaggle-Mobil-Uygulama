{
 "cells": [
  {
   "cell_type": "code",
   "execution_count": 1,
   "id": "2e43d60a-71dd-4345-9f35-584363951261",
   "metadata": {},
   "outputs": [
    {
     "name": "stdout",
     "output_type": "stream",
     "text": [
      "Requirement already satisfied: numpy in /home/kubilaybey/anaconda3/lib/python3.12/site-packages (1.26.4)\n",
      "Requirement already satisfied: pandas in /home/kubilaybey/anaconda3/lib/python3.12/site-packages (2.2.2)\n",
      "Requirement already satisfied: opencv-python in /home/kubilaybey/anaconda3/lib/python3.12/site-packages (4.10.0.84)\n",
      "Requirement already satisfied: scikit-image in /home/kubilaybey/anaconda3/lib/python3.12/site-packages (0.24.0)\n",
      "Requirement already satisfied: matplotlib in /home/kubilaybey/anaconda3/lib/python3.12/site-packages (3.9.2)\n",
      "\u001b[33mWARNING: Retrying (Retry(total=4, connect=None, read=None, redirect=None, status=None)) after connection broken by 'SSLError(SSLCertVerificationError(1, '[SSL: CERTIFICATE_VERIFY_FAILED] certificate verify failed: self-signed certificate in certificate chain (_ssl.c:1000)'))': /simple/shutil/\u001b[0m\u001b[33m\n",
      "\u001b[33mWARNING: Retrying (Retry(total=3, connect=None, read=None, redirect=None, status=None)) after connection broken by 'SSLError(SSLCertVerificationError(1, '[SSL: CERTIFICATE_VERIFY_FAILED] certificate verify failed: self-signed certificate in certificate chain (_ssl.c:1000)'))': /simple/shutil/\u001b[0m\u001b[33m\n",
      "\u001b[33mWARNING: Retrying (Retry(total=2, connect=None, read=None, redirect=None, status=None)) after connection broken by 'SSLError(SSLCertVerificationError(1, '[SSL: CERTIFICATE_VERIFY_FAILED] certificate verify failed: self-signed certificate in certificate chain (_ssl.c:1000)'))': /simple/shutil/\u001b[0m\u001b[33m\n",
      "\u001b[33mWARNING: Retrying (Retry(total=1, connect=None, read=None, redirect=None, status=None)) after connection broken by 'SSLError(SSLCertVerificationError(1, '[SSL: CERTIFICATE_VERIFY_FAILED] certificate verify failed: self-signed certificate in certificate chain (_ssl.c:1000)'))': /simple/shutil/\u001b[0m\u001b[33m\n",
      "\u001b[33mWARNING: Retrying (Retry(total=0, connect=None, read=None, redirect=None, status=None)) after connection broken by 'ReadTimeoutError(\"HTTPSConnectionPool(host='pypi.org', port=443): Read timed out. (read timeout=15)\")': /simple/shutil/\u001b[0m\u001b[33m\n",
      "Could not fetch URL https://pypi.org/simple/shutil/: There was a problem confirming the ssl certificate: HTTPSConnectionPool(host='pypi.org', port=443): Max retries exceeded with url: /simple/shutil/ (Caused by SSLError(SSLCertVerificationError(1, '[SSL: CERTIFICATE_VERIFY_FAILED] certificate verify failed: self-signed certificate in certificate chain (_ssl.c:1000)'))) - skipping\n",
      "\u001b[31mERROR: Could not find a version that satisfies the requirement shutil (from versions: none)\u001b[0m\u001b[31m\n",
      "\u001b[0m\u001b[31mERROR: No matching distribution found for shutil\u001b[0m\u001b[31m\n",
      "\u001b[0m"
     ]
    }
   ],
   "source": [
    "!pip install numpy pandas opencv-python scikit-image matplotlib shutil"
   ]
  },
  {
   "cell_type": "code",
   "execution_count": 2,
   "id": "63c2f9da-38fe-458b-a507-1d92f9996899",
   "metadata": {},
   "outputs": [
    {
     "name": "stderr",
     "output_type": "stream",
     "text": [
      "IOPub data rate exceeded.\n",
      "The Jupyter server will temporarily stop sending output\n",
      "to the client in order to avoid crashing it.\n",
      "To change this limit, set the config variable\n",
      "`--ServerApp.iopub_data_rate_limit`.\n",
      "\n",
      "Current values:\n",
      "ServerApp.iopub_data_rate_limit=1000000.0 (bytes/sec)\n",
      "ServerApp.rate_limit_window=3.0 (secs)\n",
      "\n"
     ]
    }
   ],
   "source": [
    "from PIL import Image\n",
    "import os\n",
    "from multiprocessing import Pool, cpu_count\n",
    "\n",
    "\n",
    "def process_image(file_path):\n",
    "    try:\n",
    "        with Image.open(file_path) as img:\n",
    "            img = img.convert(\"RGB\")  # RGB formatına çevir\n",
    "            img = img.resize((224, 224))  # 224x224 boyutuna yeniden boyutlandır\n",
    "            img.save(file_path, format=\"JPEG\")  # Dosyayı kaydet\n",
    "            return f\"{file_path}: İşlendi.\"\n",
    "    except Exception as e:\n",
    "        return f\"{file_path}: Hata - {e}\"\n",
    "\n",
    "def resize_and_overwrite_images_parallel(root_directory):\n",
    "    supported_formats = (\".png\", \".jpg\", \".jpeg\")\n",
    "    image_paths = [os.path.join(root, file)\n",
    "                   for root, _, files in os.walk(root_directory)\n",
    "                   for file in files if file.lower().endswith(supported_formats)]\n",
    "\n",
    "    with Pool(processes=cpu_count()) as pool:\n",
    "        results = pool.map(process_image, image_paths)\n",
    "    for result in results:\n",
    "        print(result)\n",
    "\n",
    "# Kullanım\n",
    "dataset_path = \"/home/kubilaybey/Documents/fruit_model/Fruit -Database/Fruit Data _Base\"  # Veri seti ana klasörü\n",
    "output_path = \"/home/kubilaybey/Documents/fruit_model/Fruit -Database\"  # Veri seti ana klasörü\n",
    "\n",
    "# Çok çekirdekli işleme başla\n",
    "resize_and_overwrite_images_parallel(dataset_path)\n"
   ]
  },
  {
   "cell_type": "code",
   "execution_count": 3,
   "id": "519b29ed-b547-4a24-82f5-066bb8719cb3",
   "metadata": {},
   "outputs": [
    {
     "name": "stdout",
     "output_type": "stream",
     "text": [
      "Toplam Görsel: 66407, Toplam Etiket: 66407\n"
     ]
    }
   ],
   "source": [
    "import os\n",
    "import cv2\n",
    "import numpy as np\n",
    "\n",
    "# Veri setindeki görselleri yükleme\n",
    "def load_images_from_folder(folder_path, img_size=(224, 224)):\n",
    "    images, labels = [], []\n",
    "    for root, _, files in os.walk(folder_path):\n",
    "        for file in files:\n",
    "            img_path = os.path.join(root, file)\n",
    "            label = os.path.basename(root)\n",
    "            img = cv2.imread(img_path)\n",
    "            if img is not None:\n",
    "                img = cv2.resize(img, img_size)\n",
    "                images.append(img)\n",
    "                labels.append(label)\n",
    "    return np.array(images), np.array(labels)\n",
    "\n",
    "\n",
    "images, labels = load_images_from_folder(dataset_path)\n",
    "\n",
    "print(f\"Toplam Görsel: {len(images)}, Toplam Etiket: {len(labels)}\")\n"
   ]
  },
  {
   "cell_type": "code",
   "execution_count": 10,
   "id": "203664a7-0302-4f60-bab3-448637197a59",
   "metadata": {},
   "outputs": [
    {
     "name": "stdout",
     "output_type": "stream",
     "text": [
      "Encoded Labels: [0 0 0 0 0 0 0 0 0 0]\n",
      "Özellik Boyutu: (66407, 512), Etiket Boyutu: (66407,)\n",
      "Örnek Color Histogram Shape: (512,)\n"
     ]
    }
   ],
   "source": [
    "import os\n",
    "import cv2\n",
    "import numpy as np\n",
    "from skimage.feature import local_binary_pattern\n",
    "from multiprocessing import Pool\n",
    "from sklearn.preprocessing import LabelEncoder\n",
    "\n",
    "# Tek bir görüntüden özellik çıkarma\n",
    "def extract_features(image):\n",
    "    gray = cv2.cvtColor(image, cv2.COLOR_BGR2GRAY)\n",
    "\n",
    "    # Sap tespiti için eşikleme\n",
    "    _, stem_mask = cv2.threshold(gray, 200, 255, cv2.THRESH_BINARY)\n",
    "\n",
    "    # Doku analizi (LBP)\n",
    "    radius = 3  # Radius değerini burada belirtiyoruz\n",
    "    n_points = 8 * radius\n",
    "    lbp = local_binary_pattern(gray, n_points, radius, method='uniform')\n",
    "\n",
    "    # Renk analizi (RGB histogram)\n",
    "    color_hist = cv2.calcHist([image], [0, 1, 2], None, [8, 8, 8], [0, 256, 0, 256, 0, 256])\n",
    "    color_hist = cv2.normalize(color_hist, color_hist).flatten()\n",
    "\n",
    "    return {\n",
    "        \"stem_mask\": stem_mask,\n",
    "        \"texture\": lbp,\n",
    "        \"color_histogram\": color_hist\n",
    "    }\n",
    "\n",
    "# Tek bir dosya üzerinde işlem yapan yardımcı fonksiyon\n",
    "def process_file(file_info):\n",
    "    img_path, label = file_info\n",
    "    img = cv2.imread(img_path)\n",
    "    if img is not None:\n",
    "        features = extract_features(img)\n",
    "        return features[\"color_histogram\"], label\n",
    "    return None  # Hatalı dosyalar için None döndür\n",
    "\n",
    "# Veri setini işleyen fonksiyon (çok çekirdekli)\n",
    "def extract_features_from_dataset_parallel(folder_path, num_processes):\n",
    "    file_info_list = []\n",
    "\n",
    "    # Tüm dosya yollarını ve etiketleri toplar\n",
    "    for root, _, files in os.walk(folder_path):\n",
    "        for file in files:\n",
    "            img_path = os.path.join(root, file)\n",
    "            label = os.path.basename(root)  # Klasör ismini etiket olarak kullanır\n",
    "            file_info_list.append((img_path, label))\n",
    "\n",
    "    # Çok çekirdekli işleme\n",
    "    with Pool(processes=num_processes) as pool:\n",
    "        results = pool.map(process_file, file_info_list)\n",
    "\n",
    "    # Sonuçları ayrıştır\n",
    "    features = []\n",
    "    labels = []\n",
    "    for result in results:\n",
    "        if result is not None:  # Eğer sonuç geçerliyse\n",
    "            features.append(result[0])\n",
    "            labels.append(result[1])\n",
    "\n",
    "    return np.array(features), np.array(labels)\n",
    "\n",
    "# Veri setinin yolu\n",
    "dataset_path = \"/home/kubilaybey/Documents/fruit_model/Fruit -Database/Fruit Data _Base\"\n",
    "\n",
    "# Görsellerden özellik çıkarma ve etiketleri alma\n",
    "image_features, labels = extract_features_from_dataset_parallel(dataset_path, num_processes=12)\n",
    "\n",
    "# Etiketleri encode et\n",
    "label_encoder = LabelEncoder()\n",
    "labels_encoded = label_encoder.fit_transform(labels)\n",
    "\n",
    "# Sonuçları yazdır\n",
    "print(\"Encoded Labels:\", labels_encoded[:10])  # İlk 10 etiketin dönüşümünü kontrol edin\n",
    "print(f\"Özellik Boyutu: {image_features.shape}, Etiket Boyutu: {labels_encoded.shape}\")\n",
    "\n",
    "# Örneğin ilk görüntüden çıkarılan özelliklere bakalım\n",
    "print(f\"Örnek Color Histogram Shape: {image_features[0].shape}\")\n"
   ]
  },
  {
   "cell_type": "code",
   "execution_count": 11,
   "id": "4deda795-f72d-4727-91e3-c9d476a5b108",
   "metadata": {
    "scrolled": true
   },
   "outputs": [
    {
     "name": "stderr",
     "output_type": "stream",
     "text": [
      "2025-01-02 20:39:46.539442: E external/local_xla/xla/stream_executor/cuda/cuda_fft.cc:477] Unable to register cuFFT factory: Attempting to register factory for plugin cuFFT when one has already been registered\n",
      "WARNING: All log messages before absl::InitializeLog() is called are written to STDERR\n",
      "E0000 00:00:1735839586.553572   60938 cuda_dnn.cc:8310] Unable to register cuDNN factory: Attempting to register factory for plugin cuDNN when one has already been registered\n",
      "E0000 00:00:1735839586.557758   60938 cuda_blas.cc:1418] Unable to register cuBLAS factory: Attempting to register factory for plugin cuBLAS when one has already been registered\n",
      "2025-01-02 20:39:46.573029: I tensorflow/core/platform/cpu_feature_guard.cc:210] This TensorFlow binary is optimized to use available CPU instructions in performance-critical operations.\n",
      "To enable the following instructions: AVX2 FMA, in other operations, rebuild TensorFlow with the appropriate compiler flags.\n",
      "I0000 00:00:1735839588.594660   60938 gpu_device.cc:2022] Created device /job:localhost/replica:0/task:0/device:GPU:0 with 6280 MB memory:  -> device: 0, name: NVIDIA GeForce RTX 3070 Laptop GPU, pci bus id: 0000:01:00.0, compute capability: 8.6\n"
     ]
    },
    {
     "data": {
      "text/html": [
       "<pre style=\"white-space:pre;overflow-x:auto;line-height:normal;font-family:Menlo,'DejaVu Sans Mono',consolas,'Courier New',monospace\"><span style=\"font-weight: bold\">Model: \"functional\"</span>\n",
       "</pre>\n"
      ],
      "text/plain": [
       "\u001b[1mModel: \"functional\"\u001b[0m\n"
      ]
     },
     "metadata": {},
     "output_type": "display_data"
    },
    {
     "data": {
      "text/html": [
       "<pre style=\"white-space:pre;overflow-x:auto;line-height:normal;font-family:Menlo,'DejaVu Sans Mono',consolas,'Courier New',monospace\">┏━━━━━━━━━━━━━━━━━━━━━┳━━━━━━━━━━━━━━━━━━━┳━━━━━━━━━━━━┳━━━━━━━━━━━━━━━━━━━┓\n",
       "┃<span style=\"font-weight: bold\"> Layer (type)        </span>┃<span style=\"font-weight: bold\"> Output Shape      </span>┃<span style=\"font-weight: bold\">    Param # </span>┃<span style=\"font-weight: bold\"> Connected to      </span>┃\n",
       "┡━━━━━━━━━━━━━━━━━━━━━╇━━━━━━━━━━━━━━━━━━━╇━━━━━━━━━━━━╇━━━━━━━━━━━━━━━━━━━┩\n",
       "│ image_input         │ (<span style=\"color: #00d7ff; text-decoration-color: #00d7ff\">None</span>, <span style=\"color: #00af00; text-decoration-color: #00af00\">224</span>, <span style=\"color: #00af00; text-decoration-color: #00af00\">224</span>,  │          <span style=\"color: #00af00; text-decoration-color: #00af00\">0</span> │ -                 │\n",
       "│ (<span style=\"color: #0087ff; text-decoration-color: #0087ff\">InputLayer</span>)        │ <span style=\"color: #00af00; text-decoration-color: #00af00\">3</span>)                │            │                   │\n",
       "├─────────────────────┼───────────────────┼────────────┼───────────────────┤\n",
       "│ mobilenetv2_1.00_2… │ (<span style=\"color: #00d7ff; text-decoration-color: #00d7ff\">None</span>, <span style=\"color: #00af00; text-decoration-color: #00af00\">7</span>, <span style=\"color: #00af00; text-decoration-color: #00af00\">7</span>,      │  <span style=\"color: #00af00; text-decoration-color: #00af00\">2,257,984</span> │ image_input[<span style=\"color: #00af00; text-decoration-color: #00af00\">0</span>][<span style=\"color: #00af00; text-decoration-color: #00af00\">0</span>] │\n",
       "│ (<span style=\"color: #0087ff; text-decoration-color: #0087ff\">Functional</span>)        │ <span style=\"color: #00af00; text-decoration-color: #00af00\">1280</span>)             │            │                   │\n",
       "├─────────────────────┼───────────────────┼────────────┼───────────────────┤\n",
       "│ global_average_poo… │ (<span style=\"color: #00d7ff; text-decoration-color: #00d7ff\">None</span>, <span style=\"color: #00af00; text-decoration-color: #00af00\">1280</span>)      │          <span style=\"color: #00af00; text-decoration-color: #00af00\">0</span> │ mobilenetv2_1.00… │\n",
       "│ (<span style=\"color: #0087ff; text-decoration-color: #0087ff\">GlobalAveragePool…</span> │                   │            │                   │\n",
       "├─────────────────────┼───────────────────┼────────────┼───────────────────┤\n",
       "│ dropout (<span style=\"color: #0087ff; text-decoration-color: #0087ff\">Dropout</span>)   │ (<span style=\"color: #00d7ff; text-decoration-color: #00d7ff\">None</span>, <span style=\"color: #00af00; text-decoration-color: #00af00\">1280</span>)      │          <span style=\"color: #00af00; text-decoration-color: #00af00\">0</span> │ global_average_p… │\n",
       "├─────────────────────┼───────────────────┼────────────┼───────────────────┤\n",
       "│ feature_input       │ (<span style=\"color: #00d7ff; text-decoration-color: #00d7ff\">None</span>, <span style=\"color: #00af00; text-decoration-color: #00af00\">512</span>)       │          <span style=\"color: #00af00; text-decoration-color: #00af00\">0</span> │ -                 │\n",
       "│ (<span style=\"color: #0087ff; text-decoration-color: #0087ff\">InputLayer</span>)        │                   │            │                   │\n",
       "├─────────────────────┼───────────────────┼────────────┼───────────────────┤\n",
       "│ concatenate         │ (<span style=\"color: #00d7ff; text-decoration-color: #00d7ff\">None</span>, <span style=\"color: #00af00; text-decoration-color: #00af00\">1792</span>)      │          <span style=\"color: #00af00; text-decoration-color: #00af00\">0</span> │ dropout[<span style=\"color: #00af00; text-decoration-color: #00af00\">0</span>][<span style=\"color: #00af00; text-decoration-color: #00af00\">0</span>],    │\n",
       "│ (<span style=\"color: #0087ff; text-decoration-color: #0087ff\">Concatenate</span>)       │                   │            │ feature_input[<span style=\"color: #00af00; text-decoration-color: #00af00\">0</span>]… │\n",
       "├─────────────────────┼───────────────────┼────────────┼───────────────────┤\n",
       "│ dropout_1 (<span style=\"color: #0087ff; text-decoration-color: #0087ff\">Dropout</span>) │ (<span style=\"color: #00d7ff; text-decoration-color: #00d7ff\">None</span>, <span style=\"color: #00af00; text-decoration-color: #00af00\">1792</span>)      │          <span style=\"color: #00af00; text-decoration-color: #00af00\">0</span> │ concatenate[<span style=\"color: #00af00; text-decoration-color: #00af00\">0</span>][<span style=\"color: #00af00; text-decoration-color: #00af00\">0</span>] │\n",
       "├─────────────────────┼───────────────────┼────────────┼───────────────────┤\n",
       "│ dense (<span style=\"color: #0087ff; text-decoration-color: #0087ff\">Dense</span>)       │ (<span style=\"color: #00d7ff; text-decoration-color: #00d7ff\">None</span>, <span style=\"color: #00af00; text-decoration-color: #00af00\">26</span>)        │     <span style=\"color: #00af00; text-decoration-color: #00af00\">46,618</span> │ dropout_1[<span style=\"color: #00af00; text-decoration-color: #00af00\">0</span>][<span style=\"color: #00af00; text-decoration-color: #00af00\">0</span>]   │\n",
       "└─────────────────────┴───────────────────┴────────────┴───────────────────┘\n",
       "</pre>\n"
      ],
      "text/plain": [
       "┏━━━━━━━━━━━━━━━━━━━━━┳━━━━━━━━━━━━━━━━━━━┳━━━━━━━━━━━━┳━━━━━━━━━━━━━━━━━━━┓\n",
       "┃\u001b[1m \u001b[0m\u001b[1mLayer (type)       \u001b[0m\u001b[1m \u001b[0m┃\u001b[1m \u001b[0m\u001b[1mOutput Shape     \u001b[0m\u001b[1m \u001b[0m┃\u001b[1m \u001b[0m\u001b[1m   Param #\u001b[0m\u001b[1m \u001b[0m┃\u001b[1m \u001b[0m\u001b[1mConnected to     \u001b[0m\u001b[1m \u001b[0m┃\n",
       "┡━━━━━━━━━━━━━━━━━━━━━╇━━━━━━━━━━━━━━━━━━━╇━━━━━━━━━━━━╇━━━━━━━━━━━━━━━━━━━┩\n",
       "│ image_input         │ (\u001b[38;5;45mNone\u001b[0m, \u001b[38;5;34m224\u001b[0m, \u001b[38;5;34m224\u001b[0m,  │          \u001b[38;5;34m0\u001b[0m │ -                 │\n",
       "│ (\u001b[38;5;33mInputLayer\u001b[0m)        │ \u001b[38;5;34m3\u001b[0m)                │            │                   │\n",
       "├─────────────────────┼───────────────────┼────────────┼───────────────────┤\n",
       "│ mobilenetv2_1.00_2… │ (\u001b[38;5;45mNone\u001b[0m, \u001b[38;5;34m7\u001b[0m, \u001b[38;5;34m7\u001b[0m,      │  \u001b[38;5;34m2,257,984\u001b[0m │ image_input[\u001b[38;5;34m0\u001b[0m][\u001b[38;5;34m0\u001b[0m] │\n",
       "│ (\u001b[38;5;33mFunctional\u001b[0m)        │ \u001b[38;5;34m1280\u001b[0m)             │            │                   │\n",
       "├─────────────────────┼───────────────────┼────────────┼───────────────────┤\n",
       "│ global_average_poo… │ (\u001b[38;5;45mNone\u001b[0m, \u001b[38;5;34m1280\u001b[0m)      │          \u001b[38;5;34m0\u001b[0m │ mobilenetv2_1.00… │\n",
       "│ (\u001b[38;5;33mGlobalAveragePool…\u001b[0m │                   │            │                   │\n",
       "├─────────────────────┼───────────────────┼────────────┼───────────────────┤\n",
       "│ dropout (\u001b[38;5;33mDropout\u001b[0m)   │ (\u001b[38;5;45mNone\u001b[0m, \u001b[38;5;34m1280\u001b[0m)      │          \u001b[38;5;34m0\u001b[0m │ global_average_p… │\n",
       "├─────────────────────┼───────────────────┼────────────┼───────────────────┤\n",
       "│ feature_input       │ (\u001b[38;5;45mNone\u001b[0m, \u001b[38;5;34m512\u001b[0m)       │          \u001b[38;5;34m0\u001b[0m │ -                 │\n",
       "│ (\u001b[38;5;33mInputLayer\u001b[0m)        │                   │            │                   │\n",
       "├─────────────────────┼───────────────────┼────────────┼───────────────────┤\n",
       "│ concatenate         │ (\u001b[38;5;45mNone\u001b[0m, \u001b[38;5;34m1792\u001b[0m)      │          \u001b[38;5;34m0\u001b[0m │ dropout[\u001b[38;5;34m0\u001b[0m][\u001b[38;5;34m0\u001b[0m],    │\n",
       "│ (\u001b[38;5;33mConcatenate\u001b[0m)       │                   │            │ feature_input[\u001b[38;5;34m0\u001b[0m]… │\n",
       "├─────────────────────┼───────────────────┼────────────┼───────────────────┤\n",
       "│ dropout_1 (\u001b[38;5;33mDropout\u001b[0m) │ (\u001b[38;5;45mNone\u001b[0m, \u001b[38;5;34m1792\u001b[0m)      │          \u001b[38;5;34m0\u001b[0m │ concatenate[\u001b[38;5;34m0\u001b[0m][\u001b[38;5;34m0\u001b[0m] │\n",
       "├─────────────────────┼───────────────────┼────────────┼───────────────────┤\n",
       "│ dense (\u001b[38;5;33mDense\u001b[0m)       │ (\u001b[38;5;45mNone\u001b[0m, \u001b[38;5;34m26\u001b[0m)        │     \u001b[38;5;34m46,618\u001b[0m │ dropout_1[\u001b[38;5;34m0\u001b[0m][\u001b[38;5;34m0\u001b[0m]   │\n",
       "└─────────────────────┴───────────────────┴────────────┴───────────────────┘\n"
      ]
     },
     "metadata": {},
     "output_type": "display_data"
    },
    {
     "data": {
      "text/html": [
       "<pre style=\"white-space:pre;overflow-x:auto;line-height:normal;font-family:Menlo,'DejaVu Sans Mono',consolas,'Courier New',monospace\"><span style=\"font-weight: bold\"> Total params: </span><span style=\"color: #00af00; text-decoration-color: #00af00\">2,304,602</span> (8.79 MB)\n",
       "</pre>\n"
      ],
      "text/plain": [
       "\u001b[1m Total params: \u001b[0m\u001b[38;5;34m2,304,602\u001b[0m (8.79 MB)\n"
      ]
     },
     "metadata": {},
     "output_type": "display_data"
    },
    {
     "data": {
      "text/html": [
       "<pre style=\"white-space:pre;overflow-x:auto;line-height:normal;font-family:Menlo,'DejaVu Sans Mono',consolas,'Courier New',monospace\"><span style=\"font-weight: bold\"> Trainable params: </span><span style=\"color: #00af00; text-decoration-color: #00af00\">46,618</span> (182.10 KB)\n",
       "</pre>\n"
      ],
      "text/plain": [
       "\u001b[1m Trainable params: \u001b[0m\u001b[38;5;34m46,618\u001b[0m (182.10 KB)\n"
      ]
     },
     "metadata": {},
     "output_type": "display_data"
    },
    {
     "data": {
      "text/html": [
       "<pre style=\"white-space:pre;overflow-x:auto;line-height:normal;font-family:Menlo,'DejaVu Sans Mono',consolas,'Courier New',monospace\"><span style=\"font-weight: bold\"> Non-trainable params: </span><span style=\"color: #00af00; text-decoration-color: #00af00\">2,257,984</span> (8.61 MB)\n",
       "</pre>\n"
      ],
      "text/plain": [
       "\u001b[1m Non-trainable params: \u001b[0m\u001b[38;5;34m2,257,984\u001b[0m (8.61 MB)\n"
      ]
     },
     "metadata": {},
     "output_type": "display_data"
    }
   ],
   "source": [
    "from tensorflow.keras.applications import MobileNetV2\n",
    "from tensorflow.keras.models import Model\n",
    "from tensorflow.keras.layers import GlobalAveragePooling2D, Dense, Input, Concatenate, Dropout\n",
    "\n",
    "base_model = MobileNetV2(input_shape=(224, 224, 3), include_top=False, weights='imagenet')\n",
    "base_model.trainable = False\n",
    "\n",
    "image_input = Input(shape=(224, 224, 3), name=\"image_input\")\n",
    "feature_input = Input(shape=(512,), name=\"feature_input\")\n",
    "\n",
    "x = base_model(image_input)\n",
    "x = GlobalAveragePooling2D()(x)\n",
    "x = Dropout(0.3)(x)\n",
    "\n",
    "combined = Concatenate()([x, feature_input])\n",
    "combined = Dropout(0.4)(combined)\n",
    "\n",
    "output = Dense(len(set(labels)), activation='softmax')(combined)\n",
    "model = Model(inputs=[image_input, feature_input], outputs=output)\n",
    "\n",
    "model.compile(optimizer='adam', loss='sparse_categorical_crossentropy', metrics=['accuracy'])\n",
    "model.summary()\n"
   ]
  },
  {
   "cell_type": "code",
   "execution_count": 12,
   "id": "c9101f35-e82d-4bf9-9885-0496c334e7b2",
   "metadata": {},
   "outputs": [],
   "source": [
    "import tensorflow as tf\n",
    "from tensorflow.keras import layers, models\n",
    "\n",
    "# Model mimarisi\n",
    "#def create_model(input_shape):\n",
    "#    image_input = tf.keras.Input(shape=input_shape, name=\"image_input\")\n",
    "#    feature_input = tf.keras.Input(shape=(512,), name=\"feature_input\")  # Renk histogramı için\n",
    "#\n",
    "#    # CNN kısmı\n",
    "#    x = layers.Conv2D(32, (3, 3), activation='relu')(image_input)\n",
    "#    x = layers.MaxPooling2D((2, 2))(x)\n",
    "#    x = layers.Conv2D(64, (3, 3), activation='relu')(x)\n",
    "#    x = layers.MaxPooling2D((2, 2))(x)\n",
    "#    x = layers.Flatten()(x)\n",
    "#\n",
    "#    # Özelliklerin birleştirilmesi\n",
    "#    combined = layers.Concatenate()([x, feature_input])\n",
    "#\n",
    "#    # Çıkış katmanı\n",
    "#    output = layers.Dense(len(set(labels)), activation='softmax')(combined)\n",
    "#\n",
    "#    model = models.Model(inputs=[image_input, feature_input], outputs=output)\n",
    "#    return model\n",
    "#\n",
    "# Modeli oluştur ve derle\n",
    "#model = create_model((224, 224, 3))\n",
    "#model.compile(optimizer='adam', loss='sparse_categorical_crossentropy', metrics=['accuracy'])\n",
    "#\n",
    "#print(model.summary())"
   ]
  },
  {
   "cell_type": "code",
   "execution_count": 32,
   "id": "02ed4d2c-ed44-4d5f-b4b1-5fa50d1dd6e9",
   "metadata": {},
   "outputs": [
    {
     "ename": "TypeError",
     "evalue": "ImageDataGenerator.flow_from_directory() got an unexpected keyword argument 'num_workers'",
     "output_type": "error",
     "traceback": [
      "\u001b[0;31m---------------------------------------------------------------------------\u001b[0m",
      "\u001b[0;31mTypeError\u001b[0m                                 Traceback (most recent call last)",
      "Cell \u001b[0;32mIn[32], line 24\u001b[0m\n\u001b[1;32m     21\u001b[0m test_datagen \u001b[38;5;241m=\u001b[39m ImageDataGenerator(rescale\u001b[38;5;241m=\u001b[39m\u001b[38;5;241m1.0\u001b[39m\u001b[38;5;241m/\u001b[39m\u001b[38;5;241m255\u001b[39m)\n\u001b[1;32m     23\u001b[0m \u001b[38;5;66;03m# Jeneratörler\u001b[39;00m\n\u001b[0;32m---> 24\u001b[0m train_generator \u001b[38;5;241m=\u001b[39m train_datagen\u001b[38;5;241m.\u001b[39mflow_from_directory(\n\u001b[1;32m     25\u001b[0m     train_dir,\n\u001b[1;32m     26\u001b[0m     target_size\u001b[38;5;241m=\u001b[39m(\u001b[38;5;241m224\u001b[39m, \u001b[38;5;241m224\u001b[39m),\n\u001b[1;32m     27\u001b[0m     batch_size\u001b[38;5;241m=\u001b[39m\u001b[38;5;241m32\u001b[39m,\n\u001b[1;32m     28\u001b[0m     class_mode\u001b[38;5;241m=\u001b[39m\u001b[38;5;124m'\u001b[39m\u001b[38;5;124msparse\u001b[39m\u001b[38;5;124m'\u001b[39m,\n\u001b[1;32m     29\u001b[0m     num_workers\u001b[38;5;241m=\u001b[39m\u001b[38;5;241m12\u001b[39m\n\u001b[1;32m     30\u001b[0m )\n\u001b[1;32m     32\u001b[0m val_generator \u001b[38;5;241m=\u001b[39m val_datagen\u001b[38;5;241m.\u001b[39mflow_from_directory(\n\u001b[1;32m     33\u001b[0m     val_dir,\n\u001b[1;32m     34\u001b[0m     target_size\u001b[38;5;241m=\u001b[39m(\u001b[38;5;241m224\u001b[39m, \u001b[38;5;241m224\u001b[39m),\n\u001b[0;32m   (...)\u001b[0m\n\u001b[1;32m     37\u001b[0m     num_workers\u001b[38;5;241m=\u001b[39m\u001b[38;5;241m12\u001b[39m\n\u001b[1;32m     38\u001b[0m )\n\u001b[1;32m     40\u001b[0m test_generator \u001b[38;5;241m=\u001b[39m test_datagen\u001b[38;5;241m.\u001b[39mflow_from_directory(\n\u001b[1;32m     41\u001b[0m     test_dir,  \u001b[38;5;66;03m# Test veri klasörü\u001b[39;00m\n\u001b[1;32m     42\u001b[0m     target_size\u001b[38;5;241m=\u001b[39m(\u001b[38;5;241m224\u001b[39m, \u001b[38;5;241m224\u001b[39m),  \u001b[38;5;66;03m# Görüntü boyutu\u001b[39;00m\n\u001b[0;32m   (...)\u001b[0m\n\u001b[1;32m     45\u001b[0m     num_workers\u001b[38;5;241m=\u001b[39m\u001b[38;5;241m12\u001b[39m\n\u001b[1;32m     46\u001b[0m )\n",
      "\u001b[0;31mTypeError\u001b[0m: ImageDataGenerator.flow_from_directory() got an unexpected keyword argument 'num_workers'"
     ]
    }
   ],
   "source": [
    "from tensorflow.keras.preprocessing.image import ImageDataGenerator\n",
    "\n",
    "# Yeni veri yolları\n",
    "train_dir = os.path.join(output_path, \"train\")\n",
    "val_dir = os.path.join(output_path, \"val\")\n",
    "test_dir = os.path.join(output_path, \"test\")\n",
    "\n",
    "# Veri artırma ve yeniden ölçeklendirme\n",
    "train_datagen = ImageDataGenerator(\n",
    "    rescale=1.0/255,\n",
    "    rotation_range=30,\n",
    "    width_shift_range=0.2,\n",
    "    height_shift_range=0.2,\n",
    "    shear_range=0.2,\n",
    "    zoom_range=0.2,\n",
    "    horizontal_flip=True,\n",
    "    fill_mode='nearest'\n",
    ")\n",
    "\n",
    "val_datagen = ImageDataGenerator(rescale=1.0/255)\n",
    "test_datagen = ImageDataGenerator(rescale=1.0/255)\n",
    "\n",
    "# Jeneratörler\n",
    "train_generator = train_datagen.flow_from_directory(\n",
    "    train_dir,\n",
    "    target_size=(224, 224),\n",
    "    batch_size=32,\n",
    "    class_mode='sparse',\n",
    "    num_workers=12\n",
    ")\n",
    "\n",
    "val_generator = val_datagen.flow_from_directory(\n",
    "    val_dir,\n",
    "    target_size=(224, 224),\n",
    "    batch_size=32,\n",
    "    class_mode='sparse',\n",
    "    num_workers=12\n",
    ")\n",
    "\n",
    "test_generator = test_datagen.flow_from_directory(\n",
    "    test_dir,  # Test veri klasörü\n",
    "    target_size=(224, 224),  # Görüntü boyutu\n",
    "    batch_size=32,\n",
    "    class_mode=\"binary\",  # İkili sınıflandırma\n",
    "    num_workers=12\n",
    ")\n",
    "\n",
    "print(\"Eğitim, doğrulama ve test jeneratörleri hazır.\")"
   ]
  },
  {
   "cell_type": "code",
   "execution_count": 14,
   "id": "7df0a7a7-4ca7-47d4-8eaa-8c280a533e7b",
   "metadata": {},
   "outputs": [],
   "source": [
    "def combined_generator(image_gen, features):\n",
    "    for batch, labels in image_gen:\n",
    "        batch_index = image_gen.index_array[:len(batch)]\n",
    "        yield {\"image_input\": batch, \"feature_input\": features[batch_index]}, labels\n",
    "\n",
    "\n",
    "# Eğitim ve doğrulama jeneratörleri\n",
    "train_combined_gen = combined_generator(train_generator, image_features)\n",
    "val_combined_gen = combined_generator(val_generator, image_features)\n"
   ]
  },
  {
   "cell_type": "code",
   "execution_count": 15,
   "id": "a2177cf8-4074-4925-810d-77b652071c34",
   "metadata": {},
   "outputs": [
    {
     "name": "stdout",
     "output_type": "stream",
     "text": [
      "Epoch 1/5\n"
     ]
    },
    {
     "name": "stderr",
     "output_type": "stream",
     "text": [
      "WARNING: All log messages before absl::InitializeLog() is called are written to STDERR\n",
      "I0000 00:00:1735839594.979319   67462 service.cc:148] XLA service 0x72e594001ed0 initialized for platform CUDA (this does not guarantee that XLA will be used). Devices:\n",
      "I0000 00:00:1735839594.979336   67462 service.cc:156]   StreamExecutor device (0): NVIDIA GeForce RTX 3070 Laptop GPU, Compute Capability 8.6\n",
      "2025-01-02 20:39:55.065445: I tensorflow/compiler/mlir/tensorflow/utils/dump_mlir_util.cc:268] disabling MLIR crash reproducer, set env var `MLIR_CRASH_REPRODUCER_DIRECTORY` to enable.\n",
      "I0000 00:00:1735839595.621620   67462 cuda_dnn.cc:529] Loaded cuDNN version 90300\n"
     ]
    },
    {
     "name": "stdout",
     "output_type": "stream",
     "text": [
      "\u001b[1m   1/1241\u001b[0m \u001b[37m━━━━━━━━━━━━━━━━━━━━\u001b[0m \u001b[1m3:20:49\u001b[0m 10s/step - accuracy: 0.0312 - loss: 4.1853"
     ]
    },
    {
     "name": "stderr",
     "output_type": "stream",
     "text": [
      "I0000 00:00:1735839600.921476   67462 device_compiler.h:188] Compiled cluster using XLA!  This line is logged at most once for the lifetime of the process.\n"
     ]
    },
    {
     "name": "stdout",
     "output_type": "stream",
     "text": [
      "\u001b[1m1241/1241\u001b[0m \u001b[32m━━━━━━━━━━━━━━━━━━━━\u001b[0m\u001b[37m\u001b[0m \u001b[1m382s\u001b[0m 300ms/step - accuracy: 0.7259 - loss: 0.8938 - val_accuracy: 0.9659 - val_loss: 0.1339\n",
      "Epoch 2/5\n",
      "\u001b[1m1241/1241\u001b[0m \u001b[32m━━━━━━━━━━━━━━━━━━━━\u001b[0m\u001b[37m\u001b[0m \u001b[1m339s\u001b[0m 273ms/step - accuracy: 0.9065 - loss: 0.2753 - val_accuracy: 0.9688 - val_loss: 0.1131\n",
      "Epoch 3/5\n",
      "\u001b[1m1241/1241\u001b[0m \u001b[32m━━━━━━━━━━━━━━━━━━━━\u001b[0m\u001b[37m\u001b[0m \u001b[1m328s\u001b[0m 264ms/step - accuracy: 0.9155 - loss: 0.2481 - val_accuracy: 0.9749 - val_loss: 0.0855\n",
      "Epoch 4/5\n",
      "\u001b[1m1241/1241\u001b[0m \u001b[32m━━━━━━━━━━━━━━━━━━━━\u001b[0m\u001b[37m\u001b[0m \u001b[1m325s\u001b[0m 262ms/step - accuracy: 0.9197 - loss: 0.2323 - val_accuracy: 0.9717 - val_loss: 0.0863\n",
      "Epoch 5/5\n",
      "\u001b[1m1241/1241\u001b[0m \u001b[32m━━━━━━━━━━━━━━━━━━━━\u001b[0m\u001b[37m\u001b[0m \u001b[1m339s\u001b[0m 273ms/step - accuracy: 0.9218 - loss: 0.2328 - val_accuracy: 0.9729 - val_loss: 0.0866\n"
     ]
    }
   ],
   "source": [
    "from tensorflow.keras.models import Sequential\n",
    "from tensorflow.keras.layers import Conv2D, MaxPooling2D, Flatten, Dense, Dropout\n",
    "from tensorflow.keras.callbacks import EarlyStopping, ReduceLROnPlateau\n",
    "\n",
    "train_combined_gen = combined_generator(train_generator, image_features)\n",
    "val_combined_gen = combined_generator(val_generator, image_features)\n",
    "\n",
    "# Modeli eğit\n",
    "history = model.fit(\n",
    "    train_combined_gen,\n",
    "    validation_data=val_combined_gen,\n",
    "    epochs=5,\n",
    "    steps_per_epoch=len(train_generator),\n",
    "    validation_steps=len(val_generator)\n",
    ")"
   ]
  },
  {
   "cell_type": "code",
   "execution_count": 16,
   "id": "fbd3c188-3ac6-451a-8372-f5ef21bdc0c6",
   "metadata": {},
   "outputs": [
    {
     "name": "stdout",
     "output_type": "stream",
     "text": [
      "INFO:tensorflow:Assets written to: /tmp/tmp6xyaiykt/assets\n"
     ]
    },
    {
     "name": "stderr",
     "output_type": "stream",
     "text": [
      "INFO:tensorflow:Assets written to: /tmp/tmp6xyaiykt/assets\n"
     ]
    },
    {
     "name": "stdout",
     "output_type": "stream",
     "text": [
      "Saved artifact at '/tmp/tmp6xyaiykt'. The following endpoints are available:\n",
      "\n",
      "* Endpoint 'serve'\n",
      "  args_0 (POSITIONAL_ONLY): List[TensorSpec(shape=(None, 224, 224, 3), dtype=tf.float32, name='image_input'), TensorSpec(shape=(None, 512), dtype=tf.float32, name='feature_input')]\n",
      "Output Type:\n",
      "  TensorSpec(shape=(None, 26), dtype=tf.float32, name=None)\n",
      "Captures:\n",
      "  126335980922512: TensorSpec(shape=(), dtype=tf.resource, name=None)\n",
      "  126335812007312: TensorSpec(shape=(), dtype=tf.resource, name=None)\n",
      "  126335812006736: TensorSpec(shape=(), dtype=tf.resource, name=None)\n",
      "  126335812006928: TensorSpec(shape=(), dtype=tf.resource, name=None)\n",
      "  126335812007696: TensorSpec(shape=(), dtype=tf.resource, name=None)\n",
      "  126335812007888: TensorSpec(shape=(), dtype=tf.resource, name=None)\n",
      "  126335812005776: TensorSpec(shape=(), dtype=tf.resource, name=None)\n",
      "  126335812007120: TensorSpec(shape=(), dtype=tf.resource, name=None)\n",
      "  126335812005584: TensorSpec(shape=(), dtype=tf.resource, name=None)\n",
      "  126335812008272: TensorSpec(shape=(), dtype=tf.resource, name=None)\n",
      "  126335812009232: TensorSpec(shape=(), dtype=tf.resource, name=None)\n",
      "  126335812003472: TensorSpec(shape=(), dtype=tf.resource, name=None)\n",
      "  126335811699344: TensorSpec(shape=(), dtype=tf.resource, name=None)\n",
      "  126335812008848: TensorSpec(shape=(), dtype=tf.resource, name=None)\n",
      "  126335812009616: TensorSpec(shape=(), dtype=tf.resource, name=None)\n",
      "  126335811700880: TensorSpec(shape=(), dtype=tf.resource, name=None)\n",
      "  126335811701648: TensorSpec(shape=(), dtype=tf.resource, name=None)\n",
      "  126335811701264: TensorSpec(shape=(), dtype=tf.resource, name=None)\n",
      "  126335811702608: TensorSpec(shape=(), dtype=tf.resource, name=None)\n",
      "  126335811702224: TensorSpec(shape=(), dtype=tf.resource, name=None)\n",
      "  126335811703376: TensorSpec(shape=(), dtype=tf.resource, name=None)\n",
      "  126335811704336: TensorSpec(shape=(), dtype=tf.resource, name=None)\n",
      "  126335811704144: TensorSpec(shape=(), dtype=tf.resource, name=None)\n",
      "  126335811702992: TensorSpec(shape=(), dtype=tf.resource, name=None)\n",
      "  126335811701840: TensorSpec(shape=(), dtype=tf.resource, name=None)\n",
      "  126335811705680: TensorSpec(shape=(), dtype=tf.resource, name=None)\n",
      "  126335811707024: TensorSpec(shape=(), dtype=tf.resource, name=None)\n",
      "  126335811707216: TensorSpec(shape=(), dtype=tf.resource, name=None)\n",
      "  126335811706832: TensorSpec(shape=(), dtype=tf.resource, name=None)\n",
      "  126335811706064: TensorSpec(shape=(), dtype=tf.resource, name=None)\n",
      "  126335811707600: TensorSpec(shape=(), dtype=tf.resource, name=None)\n",
      "  126335811708944: TensorSpec(shape=(), dtype=tf.resource, name=None)\n",
      "  126335811709136: TensorSpec(shape=(), dtype=tf.resource, name=None)\n",
      "  126335811708752: TensorSpec(shape=(), dtype=tf.resource, name=None)\n",
      "  126335811707984: TensorSpec(shape=(), dtype=tf.resource, name=None)\n",
      "  126335811709520: TensorSpec(shape=(), dtype=tf.resource, name=None)\n",
      "  126335811710864: TensorSpec(shape=(), dtype=tf.resource, name=None)\n",
      "  126335811711056: TensorSpec(shape=(), dtype=tf.resource, name=None)\n",
      "  126335811710672: TensorSpec(shape=(), dtype=tf.resource, name=None)\n",
      "  126335811709904: TensorSpec(shape=(), dtype=tf.resource, name=None)\n",
      "  126335811710288: TensorSpec(shape=(), dtype=tf.resource, name=None)\n",
      "  126335811712976: TensorSpec(shape=(), dtype=tf.resource, name=None)\n",
      "  126335811713168: TensorSpec(shape=(), dtype=tf.resource, name=None)\n",
      "  126335811712784: TensorSpec(shape=(), dtype=tf.resource, name=None)\n",
      "  126335811705296: TensorSpec(shape=(), dtype=tf.resource, name=None)\n",
      "  126335811711440: TensorSpec(shape=(), dtype=tf.resource, name=None)\n",
      "  126335811714896: TensorSpec(shape=(), dtype=tf.resource, name=None)\n",
      "  126335807783376: TensorSpec(shape=(), dtype=tf.resource, name=None)\n",
      "  126335811714512: TensorSpec(shape=(), dtype=tf.resource, name=None)\n",
      "  126335811713552: TensorSpec(shape=(), dtype=tf.resource, name=None)\n",
      "  126335807783568: TensorSpec(shape=(), dtype=tf.resource, name=None)\n",
      "  126335807784912: TensorSpec(shape=(), dtype=tf.resource, name=None)\n",
      "  126335807785104: TensorSpec(shape=(), dtype=tf.resource, name=None)\n",
      "  126335807784720: TensorSpec(shape=(), dtype=tf.resource, name=None)\n",
      "  126335807783760: TensorSpec(shape=(), dtype=tf.resource, name=None)\n",
      "  126335807785488: TensorSpec(shape=(), dtype=tf.resource, name=None)\n",
      "  126335807786832: TensorSpec(shape=(), dtype=tf.resource, name=None)\n",
      "  126335807787024: TensorSpec(shape=(), dtype=tf.resource, name=None)\n",
      "  126335807786640: TensorSpec(shape=(), dtype=tf.resource, name=None)\n",
      "  126335807785872: TensorSpec(shape=(), dtype=tf.resource, name=None)\n",
      "  126335807787408: TensorSpec(shape=(), dtype=tf.resource, name=None)\n",
      "  126335807788752: TensorSpec(shape=(), dtype=tf.resource, name=None)\n",
      "  126335807788944: TensorSpec(shape=(), dtype=tf.resource, name=None)\n",
      "  126335807788560: TensorSpec(shape=(), dtype=tf.resource, name=None)\n",
      "  126335807787792: TensorSpec(shape=(), dtype=tf.resource, name=None)\n",
      "  126335807789328: TensorSpec(shape=(), dtype=tf.resource, name=None)\n",
      "  126335807790672: TensorSpec(shape=(), dtype=tf.resource, name=None)\n",
      "  126335807790864: TensorSpec(shape=(), dtype=tf.resource, name=None)\n",
      "  126335807790480: TensorSpec(shape=(), dtype=tf.resource, name=None)\n",
      "  126335807789712: TensorSpec(shape=(), dtype=tf.resource, name=None)\n",
      "  126335807791248: TensorSpec(shape=(), dtype=tf.resource, name=None)\n",
      "  126335807792592: TensorSpec(shape=(), dtype=tf.resource, name=None)\n",
      "  126335807792784: TensorSpec(shape=(), dtype=tf.resource, name=None)\n",
      "  126335807792400: TensorSpec(shape=(), dtype=tf.resource, name=None)\n",
      "  126335807791632: TensorSpec(shape=(), dtype=tf.resource, name=None)\n",
      "  126335807793168: TensorSpec(shape=(), dtype=tf.resource, name=None)\n",
      "  126335807794512: TensorSpec(shape=(), dtype=tf.resource, name=None)\n",
      "  126335807794704: TensorSpec(shape=(), dtype=tf.resource, name=None)\n",
      "  126335807794320: TensorSpec(shape=(), dtype=tf.resource, name=None)\n",
      "  126335807793552: TensorSpec(shape=(), dtype=tf.resource, name=None)\n",
      "  126335807795088: TensorSpec(shape=(), dtype=tf.resource, name=None)\n",
      "  126335807796432: TensorSpec(shape=(), dtype=tf.resource, name=None)\n",
      "  126335807796624: TensorSpec(shape=(), dtype=tf.resource, name=None)\n",
      "  126335807796240: TensorSpec(shape=(), dtype=tf.resource, name=None)\n",
      "  126335807795472: TensorSpec(shape=(), dtype=tf.resource, name=None)\n",
      "  126335807797008: TensorSpec(shape=(), dtype=tf.resource, name=None)\n",
      "  126335807798352: TensorSpec(shape=(), dtype=tf.resource, name=None)\n",
      "  126335807798544: TensorSpec(shape=(), dtype=tf.resource, name=None)\n",
      "  126335807798160: TensorSpec(shape=(), dtype=tf.resource, name=None)\n",
      "  126335807797392: TensorSpec(shape=(), dtype=tf.resource, name=None)\n",
      "  126335807783952: TensorSpec(shape=(), dtype=tf.resource, name=None)\n",
      "  126335808242512: TensorSpec(shape=(), dtype=tf.resource, name=None)\n",
      "  126335808241936: TensorSpec(shape=(), dtype=tf.resource, name=None)\n",
      "  126335807797776: TensorSpec(shape=(), dtype=tf.resource, name=None)\n",
      "  126335808242896: TensorSpec(shape=(), dtype=tf.resource, name=None)\n",
      "  126335808243280: TensorSpec(shape=(), dtype=tf.resource, name=None)\n",
      "  126335808244624: TensorSpec(shape=(), dtype=tf.resource, name=None)\n",
      "  126335808244816: TensorSpec(shape=(), dtype=tf.resource, name=None)\n",
      "  126335808244432: TensorSpec(shape=(), dtype=tf.resource, name=None)\n",
      "  126335808243664: TensorSpec(shape=(), dtype=tf.resource, name=None)\n",
      "  126335808245200: TensorSpec(shape=(), dtype=tf.resource, name=None)\n",
      "  126335808246544: TensorSpec(shape=(), dtype=tf.resource, name=None)\n",
      "  126335808246736: TensorSpec(shape=(), dtype=tf.resource, name=None)\n",
      "  126335808246352: TensorSpec(shape=(), dtype=tf.resource, name=None)\n",
      "  126335808245584: TensorSpec(shape=(), dtype=tf.resource, name=None)\n",
      "  126335808247120: TensorSpec(shape=(), dtype=tf.resource, name=None)\n",
      "  126335808248464: TensorSpec(shape=(), dtype=tf.resource, name=None)\n",
      "  126335808248656: TensorSpec(shape=(), dtype=tf.resource, name=None)\n",
      "  126335808248272: TensorSpec(shape=(), dtype=tf.resource, name=None)\n",
      "  126335808247504: TensorSpec(shape=(), dtype=tf.resource, name=None)\n",
      "  126335808249040: TensorSpec(shape=(), dtype=tf.resource, name=None)\n",
      "  126335808250384: TensorSpec(shape=(), dtype=tf.resource, name=None)\n",
      "  126335808250576: TensorSpec(shape=(), dtype=tf.resource, name=None)\n",
      "  126335808250192: TensorSpec(shape=(), dtype=tf.resource, name=None)\n",
      "  126335808249424: TensorSpec(shape=(), dtype=tf.resource, name=None)\n",
      "  126335808250960: TensorSpec(shape=(), dtype=tf.resource, name=None)\n",
      "  126335808252304: TensorSpec(shape=(), dtype=tf.resource, name=None)\n",
      "  126335808252496: TensorSpec(shape=(), dtype=tf.resource, name=None)\n",
      "  126335808252112: TensorSpec(shape=(), dtype=tf.resource, name=None)\n",
      "  126335808251344: TensorSpec(shape=(), dtype=tf.resource, name=None)\n",
      "  126335808252880: TensorSpec(shape=(), dtype=tf.resource, name=None)\n",
      "  126335808254224: TensorSpec(shape=(), dtype=tf.resource, name=None)\n",
      "  126335808254416: TensorSpec(shape=(), dtype=tf.resource, name=None)\n",
      "  126335808254032: TensorSpec(shape=(), dtype=tf.resource, name=None)\n",
      "  126335808253264: TensorSpec(shape=(), dtype=tf.resource, name=None)\n",
      "  126335808254800: TensorSpec(shape=(), dtype=tf.resource, name=None)\n",
      "  126335808256144: TensorSpec(shape=(), dtype=tf.resource, name=None)\n",
      "  126335808256336: TensorSpec(shape=(), dtype=tf.resource, name=None)\n",
      "  126335808255952: TensorSpec(shape=(), dtype=tf.resource, name=None)\n",
      "  126335808255184: TensorSpec(shape=(), dtype=tf.resource, name=None)\n",
      "  126335808256720: TensorSpec(shape=(), dtype=tf.resource, name=None)\n",
      "  126335808257872: TensorSpec(shape=(), dtype=tf.resource, name=None)\n",
      "  126335808586768: TensorSpec(shape=(), dtype=tf.resource, name=None)\n",
      "  126335808242128: TensorSpec(shape=(), dtype=tf.resource, name=None)\n",
      "  126335808257488: TensorSpec(shape=(), dtype=tf.resource, name=None)\n",
      "  126335808586576: TensorSpec(shape=(), dtype=tf.resource, name=None)\n",
      "  126335808587728: TensorSpec(shape=(), dtype=tf.resource, name=None)\n",
      "  126335808587920: TensorSpec(shape=(), dtype=tf.resource, name=None)\n",
      "  126335808587536: TensorSpec(shape=(), dtype=tf.resource, name=None)\n",
      "  126335808585808: TensorSpec(shape=(), dtype=tf.resource, name=None)\n",
      "  126335808588304: TensorSpec(shape=(), dtype=tf.resource, name=None)\n",
      "  126335808589648: TensorSpec(shape=(), dtype=tf.resource, name=None)\n",
      "  126335808589840: TensorSpec(shape=(), dtype=tf.resource, name=None)\n",
      "  126335808589456: TensorSpec(shape=(), dtype=tf.resource, name=None)\n",
      "  126335808588688: TensorSpec(shape=(), dtype=tf.resource, name=None)\n",
      "  126335808590224: TensorSpec(shape=(), dtype=tf.resource, name=None)\n",
      "  126335808591568: TensorSpec(shape=(), dtype=tf.resource, name=None)\n",
      "  126335808591760: TensorSpec(shape=(), dtype=tf.resource, name=None)\n",
      "  126335808591376: TensorSpec(shape=(), dtype=tf.resource, name=None)\n",
      "  126335808590608: TensorSpec(shape=(), dtype=tf.resource, name=None)\n",
      "  126335808592144: TensorSpec(shape=(), dtype=tf.resource, name=None)\n",
      "  126335808593488: TensorSpec(shape=(), dtype=tf.resource, name=None)\n",
      "  126335808593680: TensorSpec(shape=(), dtype=tf.resource, name=None)\n",
      "  126335808593296: TensorSpec(shape=(), dtype=tf.resource, name=None)\n",
      "  126335808592528: TensorSpec(shape=(), dtype=tf.resource, name=None)\n",
      "  126335808594064: TensorSpec(shape=(), dtype=tf.resource, name=None)\n",
      "  126335808595408: TensorSpec(shape=(), dtype=tf.resource, name=None)\n",
      "  126335808595600: TensorSpec(shape=(), dtype=tf.resource, name=None)\n",
      "  126335808595216: TensorSpec(shape=(), dtype=tf.resource, name=None)\n",
      "  126335808594448: TensorSpec(shape=(), dtype=tf.resource, name=None)\n",
      "  126335808595984: TensorSpec(shape=(), dtype=tf.resource, name=None)\n",
      "  126335808597328: TensorSpec(shape=(), dtype=tf.resource, name=None)\n",
      "  126335808597520: TensorSpec(shape=(), dtype=tf.resource, name=None)\n",
      "  126335808597136: TensorSpec(shape=(), dtype=tf.resource, name=None)\n",
      "  126335808596368: TensorSpec(shape=(), dtype=tf.resource, name=None)\n",
      "  126335808597904: TensorSpec(shape=(), dtype=tf.resource, name=None)\n",
      "  126335808599248: TensorSpec(shape=(), dtype=tf.resource, name=None)\n",
      "  126335808599440: TensorSpec(shape=(), dtype=tf.resource, name=None)\n",
      "  126335808599056: TensorSpec(shape=(), dtype=tf.resource, name=None)\n",
      "  126335808598288: TensorSpec(shape=(), dtype=tf.resource, name=None)\n",
      "  126335808599824: TensorSpec(shape=(), dtype=tf.resource, name=None)\n",
      "  126335808601168: TensorSpec(shape=(), dtype=tf.resource, name=None)\n",
      "  126335808601360: TensorSpec(shape=(), dtype=tf.resource, name=None)\n",
      "  126335808600976: TensorSpec(shape=(), dtype=tf.resource, name=None)\n",
      "  126335808600208: TensorSpec(shape=(), dtype=tf.resource, name=None)\n",
      "  126335808586000: TensorSpec(shape=(), dtype=tf.resource, name=None)\n",
      "  126335803802448: TensorSpec(shape=(), dtype=tf.resource, name=None)\n",
      "  126335803801872: TensorSpec(shape=(), dtype=tf.resource, name=None)\n",
      "  126335808600592: TensorSpec(shape=(), dtype=tf.resource, name=None)\n",
      "  126335803801680: TensorSpec(shape=(), dtype=tf.resource, name=None)\n",
      "  126335803803216: TensorSpec(shape=(), dtype=tf.resource, name=None)\n",
      "  126335803804560: TensorSpec(shape=(), dtype=tf.resource, name=None)\n",
      "  126335803804752: TensorSpec(shape=(), dtype=tf.resource, name=None)\n",
      "  126335803804368: TensorSpec(shape=(), dtype=tf.resource, name=None)\n",
      "  126335803803600: TensorSpec(shape=(), dtype=tf.resource, name=None)\n",
      "  126335803805136: TensorSpec(shape=(), dtype=tf.resource, name=None)\n",
      "  126335803806480: TensorSpec(shape=(), dtype=tf.resource, name=None)\n",
      "  126335803806672: TensorSpec(shape=(), dtype=tf.resource, name=None)\n",
      "  126335803806288: TensorSpec(shape=(), dtype=tf.resource, name=None)\n",
      "  126335803805520: TensorSpec(shape=(), dtype=tf.resource, name=None)\n",
      "  126335803807056: TensorSpec(shape=(), dtype=tf.resource, name=None)\n",
      "  126335803808400: TensorSpec(shape=(), dtype=tf.resource, name=None)\n",
      "  126335803808592: TensorSpec(shape=(), dtype=tf.resource, name=None)\n",
      "  126335803808208: TensorSpec(shape=(), dtype=tf.resource, name=None)\n",
      "  126335803807440: TensorSpec(shape=(), dtype=tf.resource, name=None)\n",
      "  126335803808976: TensorSpec(shape=(), dtype=tf.resource, name=None)\n",
      "  126335803810320: TensorSpec(shape=(), dtype=tf.resource, name=None)\n",
      "  126335803810512: TensorSpec(shape=(), dtype=tf.resource, name=None)\n",
      "  126335803810128: TensorSpec(shape=(), dtype=tf.resource, name=None)\n",
      "  126335803809360: TensorSpec(shape=(), dtype=tf.resource, name=None)\n",
      "  126335803810896: TensorSpec(shape=(), dtype=tf.resource, name=None)\n",
      "  126335803812240: TensorSpec(shape=(), dtype=tf.resource, name=None)\n",
      "  126335803812432: TensorSpec(shape=(), dtype=tf.resource, name=None)\n",
      "  126335803812048: TensorSpec(shape=(), dtype=tf.resource, name=None)\n",
      "  126335803811280: TensorSpec(shape=(), dtype=tf.resource, name=None)\n",
      "  126335803812816: TensorSpec(shape=(), dtype=tf.resource, name=None)\n",
      "  126335803814160: TensorSpec(shape=(), dtype=tf.resource, name=None)\n",
      "  126335803814352: TensorSpec(shape=(), dtype=tf.resource, name=None)\n",
      "  126335803813968: TensorSpec(shape=(), dtype=tf.resource, name=None)\n",
      "  126335803813200: TensorSpec(shape=(), dtype=tf.resource, name=None)\n",
      "  126335803814736: TensorSpec(shape=(), dtype=tf.resource, name=None)\n",
      "  126335803816080: TensorSpec(shape=(), dtype=tf.resource, name=None)\n",
      "  126335803816272: TensorSpec(shape=(), dtype=tf.resource, name=None)\n",
      "  126335803815888: TensorSpec(shape=(), dtype=tf.resource, name=None)\n",
      "  126335803815120: TensorSpec(shape=(), dtype=tf.resource, name=None)\n",
      "  126335803816656: TensorSpec(shape=(), dtype=tf.resource, name=None)\n",
      "  126335803817808: TensorSpec(shape=(), dtype=tf.resource, name=None)\n",
      "  126335804195280: TensorSpec(shape=(), dtype=tf.resource, name=None)\n",
      "  126335803802832: TensorSpec(shape=(), dtype=tf.resource, name=None)\n",
      "  126335803817424: TensorSpec(shape=(), dtype=tf.resource, name=None)\n",
      "  126335804195472: TensorSpec(shape=(), dtype=tf.resource, name=None)\n",
      "  126335804196816: TensorSpec(shape=(), dtype=tf.resource, name=None)\n",
      "  126335804197008: TensorSpec(shape=(), dtype=tf.resource, name=None)\n",
      "  126335804196624: TensorSpec(shape=(), dtype=tf.resource, name=None)\n",
      "  126335804195664: TensorSpec(shape=(), dtype=tf.resource, name=None)\n",
      "  126335804197392: TensorSpec(shape=(), dtype=tf.resource, name=None)\n",
      "  126335804198736: TensorSpec(shape=(), dtype=tf.resource, name=None)\n",
      "  126335804198928: TensorSpec(shape=(), dtype=tf.resource, name=None)\n",
      "  126335804198544: TensorSpec(shape=(), dtype=tf.resource, name=None)\n",
      "  126335804197776: TensorSpec(shape=(), dtype=tf.resource, name=None)\n",
      "  126335804199312: TensorSpec(shape=(), dtype=tf.resource, name=None)\n",
      "  126335804200656: TensorSpec(shape=(), dtype=tf.resource, name=None)\n",
      "  126335804200848: TensorSpec(shape=(), dtype=tf.resource, name=None)\n",
      "  126335804200464: TensorSpec(shape=(), dtype=tf.resource, name=None)\n",
      "  126335804199696: TensorSpec(shape=(), dtype=tf.resource, name=None)\n",
      "  126335804201232: TensorSpec(shape=(), dtype=tf.resource, name=None)\n",
      "  126335804202576: TensorSpec(shape=(), dtype=tf.resource, name=None)\n",
      "  126335804202768: TensorSpec(shape=(), dtype=tf.resource, name=None)\n",
      "  126335804202384: TensorSpec(shape=(), dtype=tf.resource, name=None)\n",
      "  126335804201616: TensorSpec(shape=(), dtype=tf.resource, name=None)\n",
      "  126335804203152: TensorSpec(shape=(), dtype=tf.resource, name=None)\n",
      "  126335804204496: TensorSpec(shape=(), dtype=tf.resource, name=None)\n",
      "  126335804204688: TensorSpec(shape=(), dtype=tf.resource, name=None)\n",
      "  126335804204304: TensorSpec(shape=(), dtype=tf.resource, name=None)\n",
      "  126335804203536: TensorSpec(shape=(), dtype=tf.resource, name=None)\n",
      "  126335804205072: TensorSpec(shape=(), dtype=tf.resource, name=None)\n",
      "  126335804206416: TensorSpec(shape=(), dtype=tf.resource, name=None)\n",
      "  126335804206608: TensorSpec(shape=(), dtype=tf.resource, name=None)\n",
      "  126335804206224: TensorSpec(shape=(), dtype=tf.resource, name=None)\n",
      "  126335804205456: TensorSpec(shape=(), dtype=tf.resource, name=None)\n",
      "  126335804206992: TensorSpec(shape=(), dtype=tf.resource, name=None)\n",
      "  126335804208336: TensorSpec(shape=(), dtype=tf.resource, name=None)\n",
      "  126335804208528: TensorSpec(shape=(), dtype=tf.resource, name=None)\n",
      "  126335804208144: TensorSpec(shape=(), dtype=tf.resource, name=None)\n",
      "  126335804207376: TensorSpec(shape=(), dtype=tf.resource, name=None)\n",
      "  126335804208912: TensorSpec(shape=(), dtype=tf.resource, name=None)\n",
      "  126335804210256: TensorSpec(shape=(), dtype=tf.resource, name=None)\n",
      "  126335804210448: TensorSpec(shape=(), dtype=tf.resource, name=None)\n",
      "  126335804210064: TensorSpec(shape=(), dtype=tf.resource, name=None)\n",
      "  126335804209296: TensorSpec(shape=(), dtype=tf.resource, name=None)\n",
      "  126335793218192: TensorSpec(shape=(), dtype=tf.resource, name=None)\n",
      "  126335793219728: TensorSpec(shape=(), dtype=tf.resource, name=None)\n",
      "Model TFLite formatında kaydedildi!\n"
     ]
    },
    {
     "name": "stderr",
     "output_type": "stream",
     "text": [
      "W0000 00:00:1735841310.345558   60938 tf_tfl_flatbuffer_helpers.cc:365] Ignored output_format.\n",
      "W0000 00:00:1735841310.345583   60938 tf_tfl_flatbuffer_helpers.cc:368] Ignored drop_control_dependency.\n",
      "2025-01-02 21:08:30.345943: I tensorflow/cc/saved_model/reader.cc:83] Reading SavedModel from: /tmp/tmp6xyaiykt\n",
      "2025-01-02 21:08:30.357002: I tensorflow/cc/saved_model/reader.cc:52] Reading meta graph with tags { serve }\n",
      "2025-01-02 21:08:30.357019: I tensorflow/cc/saved_model/reader.cc:147] Reading SavedModel debug info (if present) from: /tmp/tmp6xyaiykt\n",
      "I0000 00:00:1735841310.461132   60938 mlir_graph_optimization_pass.cc:401] MLIR V1 optimization pass is not enabled\n",
      "2025-01-02 21:08:30.483001: I tensorflow/cc/saved_model/loader.cc:236] Restoring SavedModel bundle.\n",
      "2025-01-02 21:08:31.120208: I tensorflow/cc/saved_model/loader.cc:220] Running initialization op on SavedModel bundle at path: /tmp/tmp6xyaiykt\n",
      "2025-01-02 21:08:31.310976: I tensorflow/cc/saved_model/loader.cc:466] SavedModel load for tags { serve }; Status: success: OK. Took 965035 microseconds.\n"
     ]
    }
   ],
   "source": [
    "import tensorflow as tf\n",
    "\n",
    "converter = tf.lite.TFLiteConverter.from_keras_model(model)\n",
    "tflite_model = converter.convert()\n",
    "\n",
    "with open('model.tflite', 'wb') as f:\n",
    "    f.write(tflite_model)\n",
    "\n",
    "print(\"Model TFLite formatında kaydedildi!\")"
   ]
  },
  {
   "cell_type": "code",
   "execution_count": 24,
   "id": "8b2543c2-1ead-419e-a332-7e4a9527d5da",
   "metadata": {},
   "outputs": [
    {
     "name": "stdout",
     "output_type": "stream",
     "text": [
      "[(None, 224, 224, 3), (None, 512)]\n",
      "Input shape: [  1 224 224   3]\n",
      "Input dtype: <class 'numpy.float32'>\n",
      "Output shape: [ 1 26]\n",
      "Output dtype: <class 'numpy.float32'>\n"
     ]
    },
    {
     "name": "stderr",
     "output_type": "stream",
     "text": [
      "INFO: Created TensorFlow Lite XNNPACK delegate for CPU.\n"
     ]
    },
    {
     "name": "stdout",
     "output_type": "stream",
     "text": [
      "Found 39695 files belonging to 14 classes.\n",
      "Sınıf İsimleri: ['Apple', 'Banana', 'Carambola', 'Guava', 'Kiwi', 'Orange', 'Peach', 'Pear', 'Persimmon', 'Pitaya', 'Plum', 'Pomegranate', 'Tomatoes', 'muskmelon']\n"
     ]
    }
   ],
   "source": [
    "print(model.input_shape)\n",
    "interpreter = tf.lite.Interpreter(model_path=\"model.tflite\")\n",
    "interpreter.allocate_tensors()\n",
    "input_details = interpreter.get_input_details()\n",
    "output_details = interpreter.get_output_details()\n",
    "\n",
    "print(\"Input shape:\", input_details[0]['shape'])\n",
    "print(\"Input dtype:\", input_details[0]['dtype'])\n",
    "print(\"Output shape:\", output_details[0]['shape'])\n",
    "print(\"Output dtype:\", output_details[0]['dtype'])\n",
    "\n",
    "train_data = tf.keras.utils.image_dataset_from_directory(train_dir, image_size=(224, 224), batch_size=32)\n",
    "class_names = train_data.class_names\n",
    "print(\"Sınıf İsimleri:\", class_names)"
   ]
  },
  {
   "cell_type": "code",
   "execution_count": 28,
   "id": "121f34f5-8102-49c6-bbed-895544435b03",
   "metadata": {},
   "outputs": [
    {
     "name": "stderr",
     "output_type": "stream",
     "text": [
      "/home/kubilaybey/.local/lib/python3.12/site-packages/keras/src/trainers/data_adapters/py_dataset_adapter.py:121: UserWarning: Your `PyDataset` class should call `super().__init__(**kwargs)` in its constructor. `**kwargs` can include `workers`, `use_multiprocessing`, `max_queue_size`. Do not pass these arguments to `fit()`, as they will be ignored.\n",
      "  self._warn_if_super_not_called()\n"
     ]
    },
    {
     "ename": "ValueError",
     "evalue": "Layer \"functional\" expects 2 input(s), but it received 1 input tensors. Inputs received: [<tf.Tensor 'data:0' shape=(None, 224, 224, 3) dtype=float32>]",
     "output_type": "error",
     "traceback": [
      "\u001b[0;31m---------------------------------------------------------------------------\u001b[0m",
      "\u001b[0;31mValueError\u001b[0m                                Traceback (most recent call last)",
      "Cell \u001b[0;32mIn[28], line 1\u001b[0m\n\u001b[0;32m----> 1\u001b[0m test_loss, test_accuracy \u001b[38;5;241m=\u001b[39m model\u001b[38;5;241m.\u001b[39mevaluate(test_generator)\n\u001b[1;32m      3\u001b[0m \u001b[38;5;28mprint\u001b[39m(\u001b[38;5;124mf\u001b[39m\u001b[38;5;124m\"\u001b[39m\u001b[38;5;124mTest Loss: \u001b[39m\u001b[38;5;132;01m{\u001b[39;00mtest_loss\u001b[38;5;132;01m}\u001b[39;00m\u001b[38;5;124m, Test Accuracy: \u001b[39m\u001b[38;5;132;01m{\u001b[39;00mtest_accuracy\u001b[38;5;132;01m}\u001b[39;00m\u001b[38;5;124m\"\u001b[39m)\n",
      "File \u001b[0;32m~/.local/lib/python3.12/site-packages/keras/src/utils/traceback_utils.py:122\u001b[0m, in \u001b[0;36mfilter_traceback.<locals>.error_handler\u001b[0;34m(*args, **kwargs)\u001b[0m\n\u001b[1;32m    119\u001b[0m     filtered_tb \u001b[38;5;241m=\u001b[39m _process_traceback_frames(e\u001b[38;5;241m.\u001b[39m__traceback__)\n\u001b[1;32m    120\u001b[0m     \u001b[38;5;66;03m# To get the full stack trace, call:\u001b[39;00m\n\u001b[1;32m    121\u001b[0m     \u001b[38;5;66;03m# `keras.config.disable_traceback_filtering()`\u001b[39;00m\n\u001b[0;32m--> 122\u001b[0m     \u001b[38;5;28;01mraise\u001b[39;00m e\u001b[38;5;241m.\u001b[39mwith_traceback(filtered_tb) \u001b[38;5;28;01mfrom\u001b[39;00m \u001b[38;5;28;01mNone\u001b[39;00m\n\u001b[1;32m    123\u001b[0m \u001b[38;5;28;01mfinally\u001b[39;00m:\n\u001b[1;32m    124\u001b[0m     \u001b[38;5;28;01mdel\u001b[39;00m filtered_tb\n",
      "File \u001b[0;32m~/.local/lib/python3.12/site-packages/keras/src/layers/input_spec.py:160\u001b[0m, in \u001b[0;36massert_input_compatibility\u001b[0;34m(input_spec, inputs, layer_name)\u001b[0m\n\u001b[1;32m    158\u001b[0m inputs \u001b[38;5;241m=\u001b[39m tree\u001b[38;5;241m.\u001b[39mflatten(inputs)\n\u001b[1;32m    159\u001b[0m \u001b[38;5;28;01mif\u001b[39;00m \u001b[38;5;28mlen\u001b[39m(inputs) \u001b[38;5;241m!=\u001b[39m \u001b[38;5;28mlen\u001b[39m(input_spec):\n\u001b[0;32m--> 160\u001b[0m     \u001b[38;5;28;01mraise\u001b[39;00m \u001b[38;5;167;01mValueError\u001b[39;00m(\n\u001b[1;32m    161\u001b[0m         \u001b[38;5;124mf\u001b[39m\u001b[38;5;124m'\u001b[39m\u001b[38;5;124mLayer \u001b[39m\u001b[38;5;124m\"\u001b[39m\u001b[38;5;132;01m{\u001b[39;00mlayer_name\u001b[38;5;132;01m}\u001b[39;00m\u001b[38;5;124m\"\u001b[39m\u001b[38;5;124m expects \u001b[39m\u001b[38;5;132;01m{\u001b[39;00m\u001b[38;5;28mlen\u001b[39m(input_spec)\u001b[38;5;132;01m}\u001b[39;00m\u001b[38;5;124m input(s),\u001b[39m\u001b[38;5;124m'\u001b[39m\n\u001b[1;32m    162\u001b[0m         \u001b[38;5;124mf\u001b[39m\u001b[38;5;124m\"\u001b[39m\u001b[38;5;124m but it received \u001b[39m\u001b[38;5;132;01m{\u001b[39;00m\u001b[38;5;28mlen\u001b[39m(inputs)\u001b[38;5;132;01m}\u001b[39;00m\u001b[38;5;124m input tensors. \u001b[39m\u001b[38;5;124m\"\u001b[39m\n\u001b[1;32m    163\u001b[0m         \u001b[38;5;124mf\u001b[39m\u001b[38;5;124m\"\u001b[39m\u001b[38;5;124mInputs received: \u001b[39m\u001b[38;5;132;01m{\u001b[39;00minputs\u001b[38;5;132;01m}\u001b[39;00m\u001b[38;5;124m\"\u001b[39m\n\u001b[1;32m    164\u001b[0m     )\n\u001b[1;32m    165\u001b[0m \u001b[38;5;28;01mfor\u001b[39;00m input_index, (x, spec) \u001b[38;5;129;01min\u001b[39;00m \u001b[38;5;28menumerate\u001b[39m(\u001b[38;5;28mzip\u001b[39m(inputs, input_spec)):\n\u001b[1;32m    166\u001b[0m     \u001b[38;5;28;01mif\u001b[39;00m spec \u001b[38;5;129;01mis\u001b[39;00m \u001b[38;5;28;01mNone\u001b[39;00m:\n",
      "\u001b[0;31mValueError\u001b[0m: Layer \"functional\" expects 2 input(s), but it received 1 input tensors. Inputs received: [<tf.Tensor 'data:0' shape=(None, 224, 224, 3) dtype=float32>]"
     ]
    }
   ],
   "source": [
    "\n",
    "test_loss, test_accuracy = model.evaluate(test_generator)\n",
    "\n",
    "print(f\"Test Loss: {test_loss}, Test Accuracy: {test_accuracy}\")\n"
   ]
  },
  {
   "cell_type": "code",
   "execution_count": 30,
   "id": "c91cac49-3cb4-4a7f-b262-4ccd153ca4a6",
   "metadata": {},
   "outputs": [
    {
     "data": {
      "image/png": "[encoded data removed]",
      "text/plain": [
       "<Figure size 1200x400 with 2 Axes>"
      ]
     },
     "metadata": {},
     "output_type": "display_data"
    }
   ],
   "source": [
    "import matplotlib.pyplot as plt\n",
    "\n",
    "# Eğitim ve doğrulama loss grafiği\n",
    "plt.figure(figsize=(12, 4))\n",
    "\n",
    "# Loss Grafiği\n",
    "plt.subplot(1, 2, 1)\n",
    "plt.plot(history.history['loss'], label='Training Loss')\n",
    "plt.plot(history.history['val_loss'], label='Validation Loss')\n",
    "plt.title('Training and Validation Loss')\n",
    "plt.xlabel('Epochs')\n",
    "plt.ylabel('Loss')\n",
    "plt.legend()\n",
    "\n",
    "# Accuracy Grafiği\n",
    "plt.subplot(1, 2, 2)\n",
    "plt.plot(history.history['accuracy'], label='Training Accuracy')\n",
    "plt.plot(history.history['val_accuracy'], label='Validation Accuracy')\n",
    "plt.title('Training and Validation Accuracy')\n",
    "plt.xlabel('Epochs')\n",
    "plt.ylabel('Accuracy')\n",
    "plt.legend()\n",
    "\n",
    "plt.tight_layout()\n",
    "plt.show()\n"
   ]
  },
  {
   "cell_type": "code",
   "execution_count": null,
   "id": "6aa6deb8-9b96-4105-b43d-be9809e8ccd5",
   "metadata": {},
   "outputs": [],
   "source": []
  }
 ],
 "metadata": {
  "kernelspec": {
   "display_name": "Python 3 (ipykernel)",
   "language": "python",
   "name": "python3"
  },
  "language_info": {
   "codemirror_mode": {
    "name": "ipython",
    "version": 3
   },
   "file_extension": ".py",
   "mimetype": "text/x-python",
   "name": "python",
   "nbconvert_exporter": "python",
   "pygments_lexer": "ipython3",
   "version": "3.12.2"
  }
 },
 "nbformat": 4,
 "nbformat_minor": 5
}
